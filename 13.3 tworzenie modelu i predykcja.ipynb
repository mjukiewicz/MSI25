{
 "cells": [
  {
   "cell_type": "code",
   "execution_count": null,
   "id": "b17e7872",
   "metadata": {},
   "outputs": [],
   "source": [
    "import os\n",
    "import warnings\n",
    "warnings.filterwarnings('ignore')\n",
    "os.environ[\"KMP_DUPLICATE_LIB_OK\"]=\"TRUE\"\n",
    "os.environ[\"TF_CPP_MIN_LOG_LEVEL\"] = \"3\"\n",
    "os.environ['CUDA_VISIBLE_DEVICES'] = '-1'\n",
    "\n",
    "import numpy as np\n",
    "import matplotlib.pyplot as plt\n",
    "import tensorflow as tf\n",
    "import pandas as pd\n",
    "from tensorflow.keras import Sequential\n",
    "from tensorflow.keras.layers import Flatten, Dense\n",
    "from sklearn.model_selection import train_test_split\n",
    "from sklearn.preprocessing import MinMaxScaler\n",
    "\n"
   ]
  },
  {
   "cell_type": "code",
   "execution_count": null,
   "id": "b93083b2",
   "metadata": {},
   "outputs": [],
   "source": [
    "df = pd.read_csv('/usr/share/MSI25/DailyDelhiClimateTrain.csv')"
   ]
  },
  {
   "cell_type": "code",
   "execution_count": null,
   "id": "ff366751",
   "metadata": {},
   "outputs": [],
   "source": [
    "df = df.drop([\"humidity\",\"wind_speed\", \"meanpressure\"], axis=1)"
   ]
  },
  {
   "cell_type": "code",
   "execution_count": null,
   "id": "f33958ee",
   "metadata": {},
   "outputs": [],
   "source": [
    "y = df[\"meantemp\"].values.reshape(-1, 1)\n",
    "\n",
    "scaler = MinMaxScaler(feature_range=(-1, 1))\n",
    "y_sc = scaler.fit_transform(y)\n",
    "\n",
    "X, Y = y_sc[:-1], y_sc[1:]\n",
    "\n",
    "X_train, X_test, y_train, y_test = train_test_split(X, Y, test_size=0.2, shuffle=False)"
   ]
  },
  {
   "cell_type": "code",
   "execution_count": null,
   "id": "15bf19c2",
   "metadata": {},
   "outputs": [],
   "source": [
    "model = Sequential()\n",
    "model.add(Dense(12, input_dim = 1, activation = 'relu'))\n",
    "model.add(Dense(1, activation = 'linear'))\n",
    "\n",
    "model.summary()\n",
    "\n",
    "model.compile(optimizer='adam',\n",
    "              loss='mean_squared_error')\n",
    "history = model.fit(X_train, y_train, epochs=100, validation_data=(X_test, y_test))"
   ]
  },
  {
   "cell_type": "code",
   "execution_count": null,
   "id": "7c5c40c1",
   "metadata": {},
   "outputs": [],
   "source": [
    "y_pred = model.predict(X_test)"
   ]
  },
  {
   "cell_type": "code",
   "execution_count": null,
   "id": "77c93ad1",
   "metadata": {},
   "outputs": [],
   "source": [
    "plt.plot(y_test,label='test')\n",
    "plt.plot(y_pred,label='pred')\n",
    "plt.xlabel(\"Sample\")\n",
    "plt.ylabel(\"Temperature [C]\")\n",
    "plt.legend()"
   ]
  },
  {
   "cell_type": "code",
   "execution_count": null,
   "id": "5b318306",
   "metadata": {},
   "outputs": [],
   "source": [
    "from sklearn.metrics import r2_score\n",
    "r2_score(y_test, y_pred)"
   ]
  },
  {
   "cell_type": "code",
   "execution_count": null,
   "id": "102140a9",
   "metadata": {},
   "outputs": [],
   "source": [
    "\n",
    "#r2_score to metryka oceny stosowana do pomiaru dopasowania modelu do danych. Jest to również znane jako współczynnik \n",
    "#determinacji (Coefficient of Determination). r2_score mierzy, jak dobrze model regresji przewiduje zmienność zależnej \n",
    "#zmiennej względem wartości przewidywanych przez model.\n",
    "\n",
    "#Wartość r2_score znajduje się w przedziale od 0 do 1."
   ]
  }
 ],
 "metadata": {
  "kernelspec": {
   "display_name": "Python 3 (ipykernel)",
   "language": "python",
   "name": "python3"
  },
  "language_info": {
   "codemirror_mode": {
    "name": "ipython",
    "version": 3
   },
   "file_extension": ".py",
   "mimetype": "text/x-python",
   "name": "python",
   "nbconvert_exporter": "python",
   "pygments_lexer": "ipython3",
   "version": "3.9.7"
  }
 },
 "nbformat": 4,
 "nbformat_minor": 5
}
