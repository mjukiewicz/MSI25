{
 "cells": [
  {
   "cell_type": "code",
   "execution_count": null,
   "id": "b17e7872",
   "metadata": {},
   "outputs": [],
   "source": [
    "import os\n",
    "import warnings\n",
    "warnings.filterwarnings('ignore')\n",
    "os.environ[\"KMP_DUPLICATE_LIB_OK\"]=\"TRUE\"\n",
    "os.environ[\"TF_CPP_MIN_LOG_LEVEL\"] = \"3\"\n",
    "os.environ['CUDA_VISIBLE_DEVICES'] = '-1'\n",
    "\n",
    "\n",
    "import numpy as np\n",
    "import matplotlib.pyplot as plt\n",
    "import tensorflow as tf\n",
    "import pandas as pd\n",
    "from tensorflow.keras import Sequential\n",
    "from tensorflow.keras.layers import Flatten, Dense\n",
    "\n"
   ]
  },
  {
   "cell_type": "code",
   "execution_count": null,
   "id": "b93083b2",
   "metadata": {},
   "outputs": [],
   "source": [
    "df = pd.read_csv('/usr/share/MSI25/DailyDelhiClimateTrain.csv')"
   ]
  },
  {
   "cell_type": "code",
   "execution_count": null,
   "id": "3d6bd2bb",
   "metadata": {},
   "outputs": [],
   "source": [
    "df"
   ]
  },
  {
   "cell_type": "code",
   "execution_count": null,
   "id": "697ce9ac",
   "metadata": {},
   "outputs": [],
   "source": [
    "plt.figure(figsize=(15,8))\n",
    "\n",
    "plt.subplot(4,1,1)\n",
    "plt.plot(df['meantemp'])\n",
    "plt.ylabel(\"Temperature [C]\")\n",
    "\n",
    "plt.subplot(4,1,2)\n",
    "plt.plot(df['humidity'])\n",
    "plt.ylabel(\"Humidity [%]\")\n",
    "\n",
    "plt.subplot(4,1,3)\n",
    "plt.plot(df['wind_speed'])\n",
    "plt.ylabel(\"Wind speed [m/h]\")\n",
    "\n",
    "plt.subplot(4,1,4)\n",
    "plt.plot(df['meanpressure'])\n",
    "plt.ylabel(\"Pressure [hPa]\")"
   ]
  },
  {
   "cell_type": "code",
   "execution_count": null,
   "id": "8ded86b7",
   "metadata": {},
   "outputs": [],
   "source": [
    "df_date= df.set_index(['date'], drop=True)"
   ]
  },
  {
   "cell_type": "code",
   "execution_count": null,
   "id": "87390dbe",
   "metadata": {},
   "outputs": [],
   "source": [
    "plt.figure(figsize=(15,8))\n",
    "plt.ylabel('Temperature [C]')\n",
    "df_date['meantemp'].plot()"
   ]
  },
  {
   "cell_type": "code",
   "execution_count": null,
   "id": "48ef0235",
   "metadata": {},
   "outputs": [],
   "source": []
  }
 ],
 "metadata": {
  "kernelspec": {
   "display_name": "Python 3 (ipykernel)",
   "language": "python",
   "name": "python3"
  },
  "language_info": {
   "codemirror_mode": {
    "name": "ipython",
    "version": 3
   },
   "file_extension": ".py",
   "mimetype": "text/x-python",
   "name": "python",
   "nbconvert_exporter": "python",
   "pygments_lexer": "ipython3",
   "version": "3.9.7"
  }
 },
 "nbformat": 4,
 "nbformat_minor": 5
}
