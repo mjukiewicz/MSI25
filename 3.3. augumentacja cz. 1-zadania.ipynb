{
 "cells": [
  {
   "cell_type": "code",
   "execution_count": null,
   "id": "0dd96726",
   "metadata": {},
   "outputs": [],
   "source": [
    "import os\n",
    "import warnings\n",
    "warnings.filterwarnings('ignore')\n",
    "os.environ[\"KMP_DUPLICATE_LIB_OK\"]=\"TRUE\"\n",
    "os.environ[\"TF_CPP_MIN_LOG_LEVEL\"] = \"3\"\n",
    "os.environ['CUDA_VISIBLE_DEVICES'] = '-1'\n",
    "\n",
    "import numpy as np\n",
    "import matplotlib.pyplot as plt\n",
    "import tensorflow as tf\n",
    "import pandas as pd\n",
    "from tensorflow.keras.callbacks import EarlyStopping\n",
    "from tensorflow.keras.models import Sequential\n",
    "from tensorflow.keras.layers import Dense, Dropout, Conv2D, MaxPooling2D, Flatten\n",
    "from tensorflow.keras.layers import BatchNormalization\n",
    "\n",
    "es = EarlyStopping(monitor = \"val_loss\", mode = \"min\", patience = 5)\n",
    "\n",
    "EPOCHS = 100"
   ]
  },
  {
   "cell_type": "code",
   "execution_count": null,
   "id": "e667796f",
   "metadata": {},
   "outputs": [],
   "source": [
    "from keras.preprocessing.image import ImageDataGenerator\n",
    "\n",
    "root_path = \"/usr/share/MSI25/data_images/\"\n",
    "\n",
    "gen = ImageDataGenerator(\n",
    "    rescale=1./255,\n",
    "    horizontal_flip=True, #nowość\n",
    "    vertical_flip=True,   #nowość\n",
    "    rotation_range=20,    #nowość\n",
    "    validation_split=0.2  #nowość\n",
    ")\n",
    "\n",
    "# Load Data\n",
    "train_ds = gen.flow_from_directory(\n",
    "    root_path,\n",
    "    class_mode=\"categorical\",\n",
    "    classes = [\"smile\",\"non_smile\"],\n",
    "    shuffle=True,\n",
    "    batch_size=32,\n",
    "    target_size=(128,128),\n",
    "    subset=\"training\"\n",
    ")\n",
    "\n",
    "valid_ds = gen.flow_from_directory(\n",
    "    root_path,\n",
    "    class_mode=\"categorical\",\n",
    "    classes = [\"smile\",\"non_smile\"],\n",
    "    shuffle=True,\n",
    "    batch_size=32,\n",
    "    target_size=(128,128),\n",
    "    subset=\"validation\"\n",
    ")\n"
   ]
  },
  {
   "cell_type": "code",
   "execution_count": null,
   "id": "15b6fb25",
   "metadata": {},
   "outputs": [],
   "source": [
    "plt.figure(figsize=(10,10))\n",
    "img, labels = next(train_dataset)\n",
    "for i in range(25):\n",
    "    plt.subplot(5,5,i+1)\n",
    "    plt.imshow(img[i])\n",
    "    plt.axis('off')\n",
    "    if labels[i][0]==1:\n",
    "        plt.title(\"smile\")\n",
    "    else:\n",
    "        plt.title(\"non_smile\")"
   ]
  },
  {
   "cell_type": "code",
   "execution_count": null,
   "id": "1efafc9b",
   "metadata": {},
   "outputs": [],
   "source": [
    "# Stwórz dwa modele.  \n",
    "# Pierwszy z augumentacją i z wykorzystaniem danych wczytanych u góry. \n",
    "# Drugi bez augumentacji - dane należy wczytać na nowo, bez elementów odpowiedzialnych za augumentcję.\n",
    "# Stwórz wykresy dla obu i porównaj.\n",
    "# W pierwszym modelu dostosuj liczbę warstw maksymalizując accuracy. Następnie dla\n",
    "# dokładnie takiego samego modelu powtórz te czynności, wykorzystując dane z augumentacją."
   ]
  }
 ],
 "metadata": {
  "kernelspec": {
   "display_name": "Python 3 (ipykernel)",
   "language": "python",
   "name": "python3"
  },
  "language_info": {
   "codemirror_mode": {
    "name": "ipython",
    "version": 3
   },
   "file_extension": ".py",
   "mimetype": "text/x-python",
   "name": "python",
   "nbconvert_exporter": "python",
   "pygments_lexer": "ipython3",
   "version": "3.9.7"
  }
 },
 "nbformat": 4,
 "nbformat_minor": 5
}
