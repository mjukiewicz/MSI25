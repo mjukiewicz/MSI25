{
 "cells": [
  {
   "cell_type": "code",
   "execution_count": null,
   "id": "b17e7872",
   "metadata": {},
   "outputs": [],
   "source": [
    "import os\n",
    "import warnings\n",
    "warnings.filterwarnings('ignore')\n",
    "os.environ[\"KMP_DUPLICATE_LIB_OK\"]=\"TRUE\"\n",
    "os.environ[\"TF_CPP_MIN_LOG_LEVEL\"] = \"3\"\n",
    "os.environ['CUDA_VISIBLE_DEVICES'] = '-1'\n",
    "\n",
    "\n",
    "import numpy as np\n",
    "import matplotlib.pyplot as plt\n",
    "import tensorflow as tf\n",
    "import pandas as pd\n",
    "from tensorflow.keras import Sequential\n",
    "from tensorflow.keras.layers import Flatten, Dense\n",
    "\n"
   ]
  },
  {
   "cell_type": "code",
   "execution_count": null,
   "id": "b93083b2",
   "metadata": {},
   "outputs": [],
   "source": [
    "df = pd.read_csv('/usr/share/MSI25/DailyDelhiClimateTrain.csv')"
   ]
  },
  {
   "cell_type": "code",
   "execution_count": null,
   "id": "3d6bd2bb",
   "metadata": {},
   "outputs": [],
   "source": [
    "df"
   ]
  },
  {
   "cell_type": "code",
   "execution_count": null,
   "id": "ff366751",
   "metadata": {},
   "outputs": [],
   "source": [
    "df = df.drop([\"humidity\",\"wind_speed\", \"meanpressure\"], axis=1)"
   ]
  },
  {
   "cell_type": "code",
   "execution_count": null,
   "id": "f24aa3d3",
   "metadata": {},
   "outputs": [],
   "source": [
    "df"
   ]
  },
  {
   "cell_type": "code",
   "execution_count": null,
   "id": "87390dbe",
   "metadata": {},
   "outputs": [],
   "source": [
    "plt.figure(figsize=(15,8))\n",
    "df_date= df.set_index(['date'], drop=True)\n",
    "plt.ylabel('Temperature [C]')\n",
    "df_date['meantemp'].plot()"
   ]
  },
  {
   "cell_type": "code",
   "execution_count": null,
   "id": "0b16b364",
   "metadata": {},
   "outputs": [],
   "source": [
    "df.shape"
   ]
  },
  {
   "cell_type": "code",
   "execution_count": null,
   "id": "760470eb",
   "metadata": {},
   "outputs": [],
   "source": [
    "train_size = int(df.shape[0]*0.8)"
   ]
  },
  {
   "cell_type": "code",
   "execution_count": null,
   "id": "dae7c21f",
   "metadata": {},
   "outputs": [],
   "source": [
    "train_size"
   ]
  },
  {
   "cell_type": "code",
   "execution_count": null,
   "id": "47937e0b",
   "metadata": {},
   "outputs": [],
   "source": [
    "train = df.loc[:train_size]\n",
    "test = df.loc[train_size:]"
   ]
  },
  {
   "cell_type": "code",
   "execution_count": null,
   "id": "7429ea3c",
   "metadata": {
    "scrolled": true
   },
   "outputs": [],
   "source": [
    "plt.figure(figsize=(15,8))\n",
    "ax = train.plot()\n",
    "test.plot(ax=ax)\n",
    "plt.legend(['train', 'test']);"
   ]
  },
  {
   "cell_type": "code",
   "execution_count": null,
   "id": "7af9dc25",
   "metadata": {},
   "outputs": [],
   "source": [
    "train = df.iloc[:train_size, 1]\n",
    "test = df.iloc[train_size:, 1]"
   ]
  },
  {
   "cell_type": "code",
   "execution_count": null,
   "id": "82a045bd",
   "metadata": {},
   "outputs": [],
   "source": [
    "train = np.array(train).reshape(-1, 1)\n",
    "test = np.array(test).reshape(-1, 1)"
   ]
  },
  {
   "cell_type": "code",
   "execution_count": null,
   "id": "18ece562",
   "metadata": {},
   "outputs": [],
   "source": [
    "from sklearn.preprocessing import MinMaxScaler\n",
    "\n",
    "scaler = MinMaxScaler(feature_range=(-1, 1))\n",
    "train_sc = scaler.fit_transform(train)\n",
    "test_sc = scaler.transform(test)"
   ]
  },
  {
   "cell_type": "code",
   "execution_count": null,
   "id": "4b4b1a32",
   "metadata": {},
   "outputs": [],
   "source": [
    "X_train = train_sc[:-1]\n",
    "y_train = train_sc[1:]"
   ]
  },
  {
   "cell_type": "code",
   "execution_count": null,
   "id": "7e26e67b",
   "metadata": {},
   "outputs": [],
   "source": [
    "X_test = test_sc[:-1]\n",
    "y_test = test_sc[1:]"
   ]
  },
  {
   "cell_type": "code",
   "execution_count": null,
   "id": "15bf19c2",
   "metadata": {},
   "outputs": [],
   "source": [
    "#można też bardziej tradycyjnie:\n",
    "\n",
    "from sklearn.model_selection import train_test_split\n",
    "from sklearn.preprocessing import MinMaxScaler\n",
    "\n",
    "y = df[\"meantemp\"].values.reshape(-1, 1)\n",
    "\n",
    "# Skalowanie\n",
    "scaler = MinMaxScaler(feature_range=(-1, 1))\n",
    "y_sc = scaler.fit_transform(y)\n",
    "\n",
    "# Tworzymy X (wszystko oprócz ostatniej wartości) i y (wszystko oprócz pierwszej)\n",
    "X, Y = y_sc[:-1], y_sc[1:]\n",
    "\n",
    "# Podział na zbiór treningowy i testowy (80/20)\n",
    "X_train, X_test, y_train, y_test = train_test_split(X, Y, test_size=0.2, shuffle=False)"
   ]
  }
 ],
 "metadata": {
  "kernelspec": {
   "display_name": "Python 3 (ipykernel)",
   "language": "python",
   "name": "python3"
  },
  "language_info": {
   "codemirror_mode": {
    "name": "ipython",
    "version": 3
   },
   "file_extension": ".py",
   "mimetype": "text/x-python",
   "name": "python",
   "nbconvert_exporter": "python",
   "pygments_lexer": "ipython3",
   "version": "3.9.7"
  }
 },
 "nbformat": 4,
 "nbformat_minor": 5
}
