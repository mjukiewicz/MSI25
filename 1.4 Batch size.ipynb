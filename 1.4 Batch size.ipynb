{
 "cells": [
  {
   "cell_type": "code",
   "execution_count": 1,
   "id": "ab9c6082",
   "metadata": {},
   "outputs": [
    {
     "name": "stderr",
     "output_type": "stream",
     "text": [
      "2025-10-04 17:14:09.466992: E itex/core/kernels/xpu_kernel.cc:38] XPU-GPU kernel not supported.\n"
     ]
    }
   ],
   "source": [
    "import os\n",
    "import warnings\n",
    "warnings.filterwarnings('ignore')\n",
    "os.environ[\"KMP_DUPLICATE_LIB_OK\"]=\"TRUE\"\n",
    "os.environ[\"TF_CPP_MIN_LOG_LEVEL\"] = \"3\"\n",
    "os.environ['CUDA_VISIBLE_DEVICES'] = '-1'\n",
    "\n",
    "import numpy as np\n",
    "import matplotlib.pyplot as plt\n",
    "import tensorflow as tf\n",
    "import pandas as pd\n",
    "from tensorflow.keras.models import Sequential\n",
    "from tensorflow.keras.layers import Dense, Flatten\n",
    "\n",
    "\n",
    "(train_images, train_labels), (test_images, test_labels) = tf.keras.datasets.mnist.load_data()\n",
    "EPOCHS = 100"
   ]
  },
  {
   "cell_type": "code",
   "execution_count": 2,
   "id": "20bbc257",
   "metadata": {},
   "outputs": [],
   "source": [
    "# Przygotowanie danych\n",
    "train_images = train_images.astype('float32') / 255\n",
    "test_images = test_images.astype('float32') / 255"
   ]
  },
  {
   "cell_type": "code",
   "execution_count": 3,
   "id": "0ef65a6d",
   "metadata": {},
   "outputs": [
    {
     "name": "stdout",
     "output_type": "stream",
     "text": [
      "Ustawiona wielość zbioru: 8\n",
      "Epoch 1/5\n",
      "7500/7500 [==============================] - 22s 3ms/step - loss: 0.2117 - accuracy: 0.9377 - val_loss: 0.1093 - val_accuracy: 0.9675\n",
      "Epoch 2/5\n",
      "7500/7500 [==============================] - 20s 3ms/step - loss: 0.0949 - accuracy: 0.9709 - val_loss: 0.1036 - val_accuracy: 0.9693\n",
      "Epoch 3/5\n",
      "7500/7500 [==============================] - 25s 3ms/step - loss: 0.0646 - accuracy: 0.9797 - val_loss: 0.0912 - val_accuracy: 0.9725\n",
      "Epoch 4/5\n",
      "7500/7500 [==============================] - 25s 3ms/step - loss: 0.0494 - accuracy: 0.9837 - val_loss: 0.0920 - val_accuracy: 0.9750\n",
      "Epoch 5/5\n",
      "7500/7500 [==============================] - 25s 3ms/step - loss: 0.0409 - accuracy: 0.9869 - val_loss: 0.1037 - val_accuracy: 0.9728\n",
      "Ustawiona wielość zbioru: 16\n",
      "Epoch 1/5\n",
      "3750/3750 [==============================] - 14s 4ms/step - loss: 0.2270 - accuracy: 0.9338 - val_loss: 0.1211 - val_accuracy: 0.9635\n",
      "Epoch 2/5\n",
      "3750/3750 [==============================] - 13s 3ms/step - loss: 0.0986 - accuracy: 0.9699 - val_loss: 0.0893 - val_accuracy: 0.9712\n",
      "Epoch 3/5\n",
      "3750/3750 [==============================] - 13s 3ms/step - loss: 0.0666 - accuracy: 0.9791 - val_loss: 0.0853 - val_accuracy: 0.9723\n",
      "Epoch 4/5\n",
      "3750/3750 [==============================] - 13s 4ms/step - loss: 0.0508 - accuracy: 0.9843 - val_loss: 0.0717 - val_accuracy: 0.9782\n",
      "Epoch 5/5\n",
      "3750/3750 [==============================] - 13s 4ms/step - loss: 0.0393 - accuracy: 0.9874 - val_loss: 0.0777 - val_accuracy: 0.9762\n",
      "Ustawiona wielość zbioru: 32\n",
      "Epoch 1/5\n",
      "1875/1875 [==============================] - 7s 4ms/step - loss: 0.2653 - accuracy: 0.9230 - val_loss: 0.1386 - val_accuracy: 0.9584\n",
      "Epoch 2/5\n",
      "1875/1875 [==============================] - 7s 4ms/step - loss: 0.1187 - accuracy: 0.9654 - val_loss: 0.0999 - val_accuracy: 0.9685\n",
      "Epoch 3/5\n",
      "1875/1875 [==============================] - 7s 4ms/step - loss: 0.0818 - accuracy: 0.9754 - val_loss: 0.0939 - val_accuracy: 0.9712\n",
      "Epoch 4/5\n",
      "1875/1875 [==============================] - 7s 3ms/step - loss: 0.0604 - accuracy: 0.9816 - val_loss: 0.0775 - val_accuracy: 0.9749\n",
      "Epoch 5/5\n",
      "1875/1875 [==============================] - 7s 4ms/step - loss: 0.0464 - accuracy: 0.9860 - val_loss: 0.0682 - val_accuracy: 0.9783\n",
      "Ustawiona wielość zbioru: 64\n",
      "Epoch 1/5\n",
      "938/938 [==============================] - 4s 4ms/step - loss: 0.3021 - accuracy: 0.9144 - val_loss: 0.1646 - val_accuracy: 0.9493\n",
      "Epoch 2/5\n",
      "938/938 [==============================] - 3s 3ms/step - loss: 0.1332 - accuracy: 0.9616 - val_loss: 0.1119 - val_accuracy: 0.9674\n",
      "Epoch 3/5\n",
      "938/938 [==============================] - 4s 4ms/step - loss: 0.0923 - accuracy: 0.9735 - val_loss: 0.0942 - val_accuracy: 0.9725\n",
      "Epoch 4/5\n",
      "938/938 [==============================] - 4s 4ms/step - loss: 0.0696 - accuracy: 0.9795 - val_loss: 0.0837 - val_accuracy: 0.9749\n",
      "Epoch 5/5\n",
      "938/938 [==============================] - 4s 4ms/step - loss: 0.0556 - accuracy: 0.9840 - val_loss: 0.0752 - val_accuracy: 0.9757\n",
      "Ustawiona wielość zbioru: 128\n",
      "Epoch 1/5\n",
      "469/469 [==============================] - 2s 4ms/step - loss: 0.3551 - accuracy: 0.9033 - val_loss: 0.1953 - val_accuracy: 0.9447\n",
      "Epoch 2/5\n",
      "469/469 [==============================] - 2s 4ms/step - loss: 0.1642 - accuracy: 0.9527 - val_loss: 0.1398 - val_accuracy: 0.9596\n",
      "Epoch 3/5\n",
      "469/469 [==============================] - 2s 4ms/step - loss: 0.1186 - accuracy: 0.9667 - val_loss: 0.1141 - val_accuracy: 0.9669\n",
      "Epoch 4/5\n",
      "469/469 [==============================] - 2s 4ms/step - loss: 0.0926 - accuracy: 0.9737 - val_loss: 0.0971 - val_accuracy: 0.9713\n",
      "Epoch 5/5\n",
      "469/469 [==============================] - 2s 4ms/step - loss: 0.0758 - accuracy: 0.9781 - val_loss: 0.0902 - val_accuracy: 0.9729\n",
      "Ustawiona wielość zbioru: 256\n",
      "Epoch 1/5\n",
      "235/235 [==============================] - 1s 5ms/step - loss: 0.4331 - accuracy: 0.8835 - val_loss: 0.2305 - val_accuracy: 0.9349\n",
      "Epoch 2/5\n",
      "235/235 [==============================] - 1s 5ms/step - loss: 0.2002 - accuracy: 0.9436 - val_loss: 0.1700 - val_accuracy: 0.9515\n",
      "Epoch 3/5\n",
      "235/235 [==============================] - 1s 5ms/step - loss: 0.1503 - accuracy: 0.9580 - val_loss: 0.1389 - val_accuracy: 0.9577\n",
      "Epoch 4/5\n",
      "235/235 [==============================] - 1s 5ms/step - loss: 0.1202 - accuracy: 0.9661 - val_loss: 0.1174 - val_accuracy: 0.9649\n",
      "Epoch 5/5\n",
      "235/235 [==============================] - 1s 4ms/step - loss: 0.0994 - accuracy: 0.9716 - val_loss: 0.1038 - val_accuracy: 0.9686\n"
     ]
    }
   ],
   "source": [
    "#ile czasu zajmuje jeden krok dla poszczególnych wartości batch size?\n",
    "batch_sizes = [8, 16, 32, 64, 128, 256]\n",
    "histories = []\n",
    "\n",
    "for batch_size in batch_sizes:\n",
    "    print(f\"Ustawiona wielość zbioru: {batch_size}\")\n",
    "    model = Sequential([\n",
    "        Flatten(input_shape=(28, 28, 1)),\n",
    "        Dense(128, activation='relu'),\n",
    "        Dense(10, activation='softmax')\n",
    "    ])\n",
    "\n",
    "    model.compile(optimizer='adam', loss='sparse_categorical_crossentropy', metrics=['accuracy'])\n",
    "\n",
    "    history = model.fit(train_images, train_labels, epochs=5, batch_size=batch_size, validation_data=(test_images, test_labels))\n",
    "    histories.append(history)"
   ]
  },
  {
   "cell_type": "code",
   "execution_count": 4,
   "id": "e780997e",
   "metadata": {},
   "outputs": [
    {
     "name": "stdout",
     "output_type": "stream",
     "text": [
      "Zapisano do mnist_histories.csv\n"
     ]
    }
   ],
   "source": [
    "rows = []\n",
    "for bsz, hist in zip(batch_sizes, histories):\n",
    "    df = pd.DataFrame(hist.history)             \n",
    "    df['epoch'] = np.arange(1, len(df) + 1)      \n",
    "    df['batch_size'] = bsz\n",
    "    # uporządkuj kolumny:\n",
    "    df = df[['batch_size', 'epoch'] + [c for c in df.columns if c not in ['batch_size', 'epoch']]]\n",
    "    rows.append(df)\n",
    "\n",
    "full = pd.concat(rows, ignore_index=True)\n",
    "full.to_csv('mnist_histories.csv', index=False)\n",
    "print('Zapisano do mnist_histories.csv')"
   ]
  }
 ],
 "metadata": {
  "kernelspec": {
   "display_name": "Python 3 (ipykernel)",
   "language": "python",
   "name": "python3"
  },
  "language_info": {
   "codemirror_mode": {
    "name": "ipython",
    "version": 3
   },
   "file_extension": ".py",
   "mimetype": "text/x-python",
   "name": "python",
   "nbconvert_exporter": "python",
   "pygments_lexer": "ipython3",
   "version": "3.9.7"
  }
 },
 "nbformat": 4,
 "nbformat_minor": 5
}
